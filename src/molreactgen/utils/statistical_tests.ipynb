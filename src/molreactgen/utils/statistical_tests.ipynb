{
 "cells": [
  {
   "cell_type": "code",
   "execution_count": 25,
   "outputs": [],
   "source": [
    "import numpy as np\n",
    "from scipy import stats\n",
    "from dataclasses import dataclass"
   ],
   "metadata": {
    "collapsed": false,
    "ExecuteTime": {
     "start_time": "2023-10-09T14:19:00.258291Z"
    }
   },
   "id": "initial_id"
  },
  {
   "cell_type": "code",
   "execution_count": 30,
   "outputs": [],
   "source": [],
   "metadata": {
    "collapsed": false,
    "ExecuteTime": {
     "start_time": "2023-10-09T14:19:15.786830Z"
    }
   },
   "id": "78535ec60174d621"
  },
  {
   "cell_type": "code",
   "execution_count": 56,
   "outputs": [],
   "source": [
    "@dataclass\n",
    "class Sample:\n",
    "    array: np.ndarray\n",
    "    ddof: int = 1\n",
    "    mean: float = None\n",
    "    std: float = None\n",
    "\n",
    "    def __post_init__(self):\n",
    "        self.mean, self.std = self.get_basic_stats()\n",
    "\n",
    "    def get_basic_stats(self) -> tuple[float, float]:\n",
    "        mean = np.mean(self.array)\n",
    "        std = np.std(self.array, ddof=self.ddof)\n",
    "        return mean, std\n",
    "\n",
    "    def __repr__(self):\n",
    "        return f\"mean: {self.mean}, std: {self.std}\""
   ],
   "metadata": {
    "collapsed": false,
    "ExecuteTime": {
     "end_time": "2023-10-09T14:58:36.661175Z",
     "start_time": "2023-10-09T14:58:36.656623Z"
    }
   },
   "id": "2e1f4a4d72352cdf"
  },
  {
   "cell_type": "code",
   "execution_count": 57,
   "outputs": [],
   "source": [
    "def print_result(x: Sample, formatter: str = \".4f\") -> None:\n",
    "    print(\"Sample mean: \", format(x.mean, formatter))\n",
    "    print(\"Sample std: \", format(x.std, formatter))"
   ],
   "metadata": {
    "collapsed": false,
    "ExecuteTime": {
     "end_time": "2023-10-09T14:58:37.798138Z",
     "start_time": "2023-10-09T14:58:37.794243Z"
    }
   },
   "id": "2d674701b5d6efae"
  },
  {
   "cell_type": "code",
   "execution_count": 62,
   "outputs": [],
   "source": [
    "def compare_two_samples(s1: Sample, s2: Sample) -> tuple[float, float]:\n",
    "    \"\"\"Return t-statistic and p-value of two samples.\"\"\"\n",
    "    t_stat, p_value = stats.ttest_ind(s1.array, s2)  # just to check; fake!\n",
    "    return t_stat, p_value"
   ],
   "metadata": {
    "collapsed": false,
    "ExecuteTime": {
     "end_time": "2023-10-09T14:59:57.592771Z",
     "start_time": "2023-10-09T14:59:57.586455Z"
    }
   },
   "id": "27019476b7749854"
  },
  {
   "cell_type": "code",
   "execution_count": 63,
   "outputs": [
    {
     "name": "stdout",
     "output_type": "stream",
     "text": [
      "Sample mean:  0.2228\n",
      "Sample std:  0.0046\n"
     ]
    }
   ],
   "source": [
    "step_7_from_scratch_fcd = np.array(\n",
    "    [\n",
    "        0.2227403282428213,\n",
    "        0.2264341671785246,\n",
    "        0.22185662044498144,\n",
    "        0.22738946004770355,\n",
    "        0.21581233327245286,\n",
    "    ]\n",
    ")\n",
    "sample = Sample(step_7_from_scratch_fcd)\n",
    "print_result(sample)"
   ],
   "metadata": {
    "collapsed": false,
    "ExecuteTime": {
     "end_time": "2023-10-09T14:59:59.330547Z",
     "start_time": "2023-10-09T14:59:59.326064Z"
    }
   },
   "id": "860a56e4037e9862"
  },
  {
   "cell_type": "code",
   "execution_count": 71,
   "outputs": [
    {
     "name": "stdout",
     "output_type": "stream",
     "text": [
      "(-3.750021931871041, 0.00562405456328571)\n"
     ]
    }
   ],
   "source": [
    "s1 = sample.array\n",
    "s2 = s1 * 1.05\n",
    "print(compare_two_samples(s1, s2))"
   ],
   "metadata": {
    "collapsed": false,
    "ExecuteTime": {
     "end_time": "2023-10-09T15:01:52.719390Z",
     "start_time": "2023-10-09T15:01:52.712914Z"
    }
   },
   "id": "ba3a6a71549e0c61"
  },
  {
   "cell_type": "code",
   "execution_count": null,
   "outputs": [],
   "source": [],
   "metadata": {
    "collapsed": false
   },
   "id": "1879bb1e88dfa8a1"
  }
 ],
 "metadata": {
  "kernelspec": {
   "display_name": "Python 3",
   "language": "python",
   "name": "python3"
  },
  "language_info": {
   "codemirror_mode": {
    "name": "ipython",
    "version": 2
   },
   "file_extension": ".py",
   "mimetype": "text/x-python",
   "name": "python",
   "nbconvert_exporter": "python",
   "pygments_lexer": "ipython2",
   "version": "2.7.6"
  }
 },
 "nbformat": 4,
 "nbformat_minor": 5
}
